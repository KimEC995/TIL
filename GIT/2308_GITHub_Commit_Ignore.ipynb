{
 "cells": [
  {
   "cell_type": "markdown",
   "metadata": {},
   "source": [
    "# 깃허브 커밋 무시 - `.gitignore`"
   ]
  },
  {
   "cell_type": "markdown",
   "metadata": {},
   "source": [
    "가끔 커밋하면 용량이 열라 큰 파일땜에 튕길 때가 많다.\n",
    "\n",
    "다양한 방법이 있겠는데 이번엔 `.gitignore` 폴더를 활용하자"
   ]
  }
 ],
 "metadata": {
  "language_info": {
   "name": "python"
  },
  "orig_nbformat": 4
 },
 "nbformat": 4,
 "nbformat_minor": 2
}
