{
 "cells": [
  {
   "cell_type": "markdown",
   "metadata": {},
   "source": [
    "# 머신러닝 복습 겸 정리\n",
    "\n",
    "- 23.08 배움 + 복습\n",
    "- 23.08 생활코딩 수강중"
   ]
  },
  {
   "cell_type": "markdown",
   "metadata": {},
   "source": [
    "## 요약"
   ]
  },
  {
   "cell_type": "markdown",
   "metadata": {},
   "source": [
    "### 머신러닝이란?\n",
    "\n",
    "머신러닝은 많은 데이터를 기반으로 패턴을 학습하고, 결과를 예측하는 알고리즘 기법의 데이터 분석을 통칭한다.\n",
    "\n",
    "일반적인 데이터 분석은 언어 등 문맥에 기반해 파악해야 하는 내용은 패턴 규정이 어렵다.\n",
    "\n",
    "머신러닝은 이런 문제를 **데이터를 기반으로 숨겨진 패턴을 인지**해 해결한다.\n",
    "\n",
    "데이터 마이닝, 영상 인식, 음성 인식, 자연어 처리에서 개발자가 데이터나 업무로직의 특성을 직접 감안한 프로그램을 만들 경우 난이도와 개발 복잡도가 너무 높아질 수밖에 없는 분야에서 훌륭한 해결책 역할을 수행한다.\n",
    "\n",
    "데이터 의존도가 매우 높아 잘못된 데이터가 입력되면, 잘못된 값이 나온다.\n",
    "\n",
    "따라서 데이터 수집과 전처리가 가장 중요하다.\n",
    "\n",
    "또한 데이터 의존도가 높다는 말은, 변수가 바뀌면 결과가 천차만별이 된다는 것이다.\n",
    "\n",
    "다양한 하이퍼 파라미터를 조율하고, 머신러닝 툴을 교체해도 변수 한번 교체하는 것 보다 더 좋은 결과를 못 만든다.\n",
    "\n",
    "<br>\n",
    "\n",
    "결론적으로 엄청 다양한 변수가 존재하는 복잡한 문제를 예측하기 위해 패턴을 찾을 필요가 있는데 그 기반은 올바른 데이터 라는 말이다."
   ]
  },
  {
   "cell_type": "markdown",
   "metadata": {},
   "source": [
    "### 머신러닝의 분류\n",
    "\n",
    "머신러닝은 크게 세 가지로 분류한다.\n",
    "\n",
    "- 지도학습(Supervised Learning)\n",
    "    - 분류(ex.이진분류 등)\n",
    "    - 회귀(ex.선형회귀 등)\n",
    "    - 텍스트 분석\n",
    "\n",
    "---\n",
    "\n",
    "- 비지도학습(Un-Supervised Learning)\n",
    "    - 차원 축소\n",
    "    - 강화학습(Reinforce Learning)"
   ]
  },
  {
   "cell_type": "markdown",
   "metadata": {},
   "source": [
    "### 지도학습(Supervised Learning)\n",
    "\n",
    "> 지도학습은 학습을 위한 다양한 피처와 분류 결정값인 레이블(Label) 데이터로 모델을 학습, 별도의 테스트 데이터에서 미지의 레이블을 예측한다.\n",
    "\n",
    "즉, **지도학습은 명확한 정답이 주어진 데이터를 먼저 학습한 후 미지의 정답을 예측하는 방식**이다.\n",
    "\n",
    "학습을 위해 주어진 데이터 세트를 학습(Train) 데이터 세트, 머신러닝 모델의 예측 성능을 평가하는 테스트(Test)데이터 세트로 나뉜다."
   ]
  },
  {
   "cell_type": "markdown",
   "metadata": {},
   "source": [
    "### 머신러닝의 순서\n",
    "\n",
    "1. 주제 + 데이터 수집\n",
    "\n",
    "2. 탐색적 데이터 분석(전처리)\n",
    "\n",
    "3. 데이터 분류\n",
    "\n",
    "4. 모형 학습\n",
    "\n",
    "5. 모형 예측\n",
    "\n",
    "6. 모형 평가"
   ]
  },
  {
   "cell_type": "markdown",
   "metadata": {},
   "source": [
    "## 실습01. IRIS Data"
   ]
  },
  {
   "cell_type": "markdown",
   "metadata": {},
   "source": [
    "### Step01. 주제와 데이터 수집\n",
    "\n",
    "주제: 붓꽃 예측하기 \\\n",
    "데이터: iris dataset \\\n",
    "학습: 지도학습 - 분류"
   ]
  },
  {
   "cell_type": "code",
   "execution_count": 1,
   "metadata": {},
   "outputs": [
    {
     "ename": "ModuleNotFoundError",
     "evalue": "No module named 'sklearn'",
     "output_type": "error",
     "traceback": [
      "\u001b[1;31m---------------------------------------------------------------------------\u001b[0m",
      "\u001b[1;31mModuleNotFoundError\u001b[0m                       Traceback (most recent call last)",
      "Cell \u001b[1;32mIn[1], line 1\u001b[0m\n\u001b[1;32m----> 1\u001b[0m \u001b[39mfrom\u001b[39;00m \u001b[39msklearn\u001b[39;00m\u001b[39m.\u001b[39;00m\u001b[39mdatasets\u001b[39;00m \u001b[39mimport\u001b[39;00m load_iris  \u001b[39m#예제데이터\u001b[39;00m\n\u001b[0;32m      2\u001b[0m \u001b[39mfrom\u001b[39;00m \u001b[39msklearn\u001b[39;00m\u001b[39m.\u001b[39;00m\u001b[39mtree\u001b[39;00m \u001b[39mimport\u001b[39;00m DecisionTreeClassifier \u001b[39m#머신러닝알고리즘 - 분류 - 결정트리 모델\u001b[39;00m\n\u001b[0;32m      3\u001b[0m \u001b[39mfrom\u001b[39;00m \u001b[39msklearn\u001b[39;00m\u001b[39m.\u001b[39;00m\u001b[39mmodel_selection\u001b[39;00m \u001b[39mimport\u001b[39;00m train_test_split    \u001b[39m#Train / Test 데이터로 분류하는 모델\u001b[39;00m\n",
      "\u001b[1;31mModuleNotFoundError\u001b[0m: No module named 'sklearn'"
     ]
    }
   ],
   "source": [
    "from sklearn.datasets import load_iris  #예제데이터\n",
    "from sklearn.tree import DecisionTreeClassifier #머신러닝알고리즘 - 분류 - 결정트리 모델\n",
    "from sklearn.model_selection import train_test_split    #Train / Test 데이터로 분류하는 모델\n",
    "import pandas as pd\n",
    "\n",
    "# 객체 선언\n",
    "iris = load_iris()\n",
    "iris_data = iris_data   #독립변수\n",
    "# 라벨가져오기(종속변수)\n",
    "\n",
    "iris_label = iris.target\n",
    "\n",
    "#확인용 코드\n",
    "print(\"iris target\", iris_label)\n",
    "print(\"iris_Data\",iris_data)\n",
    "print(\"iris target 이름\", iris.targer_names)\n",
    "\n",
    "# DF 만들기\n",
    "# iris_df = pd.DataFrame(data=iris_data, columns=iris.feature_names)\n"
   ]
  },
  {
   "cell_type": "markdown",
   "metadata": {},
   "source": [
    "### Step02. 탐색적 데이터 분석(전처리)"
   ]
  }
 ],
 "metadata": {
  "kernelspec": {
   "display_name": "Python 3",
   "language": "python",
   "name": "python3"
  },
  "language_info": {
   "codemirror_mode": {
    "name": "ipython",
    "version": 3
   },
   "file_extension": ".py",
   "mimetype": "text/x-python",
   "name": "python",
   "nbconvert_exporter": "python",
   "pygments_lexer": "ipython3",
   "version": "3.11.4"
  },
  "orig_nbformat": 4
 },
 "nbformat": 4,
 "nbformat_minor": 2
}
